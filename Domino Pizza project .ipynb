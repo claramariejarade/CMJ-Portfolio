{
 "cells": [
  {
   "cell_type": "markdown",
   "id": "1ea6e587",
   "metadata": {},
   "source": [
    "# PIZZA PROJECT - ETU20200267"
   ]
  },
  {
   "cell_type": "code",
   "execution_count": 3,
   "id": "2c86eaa9",
   "metadata": {},
   "outputs": [],
   "source": [
    "#import libraries\n",
    "import numpy as np\n",
    "import pandas as pd \n",
    "import matplotlib.pyplot as plt "
   ]
  },
  {
   "cell_type": "markdown",
   "id": "8dfb79c7",
   "metadata": {},
   "source": [
    "# A-Data Cleaning "
   ]
  },
  {
   "cell_type": "code",
   "execution_count": 44,
   "id": "1da1bdad",
   "metadata": {},
   "outputs": [
    {
     "data": {
      "text/html": [
       "<div>\n",
       "<style scoped>\n",
       "    .dataframe tbody tr th:only-of-type {\n",
       "        vertical-align: middle;\n",
       "    }\n",
       "\n",
       "    .dataframe tbody tr th {\n",
       "        vertical-align: top;\n",
       "    }\n",
       "\n",
       "    .dataframe thead th {\n",
       "        text-align: right;\n",
       "    }\n",
       "</style>\n",
       "<table border=\"1\" class=\"dataframe\">\n",
       "  <thead>\n",
       "    <tr style=\"text-align: right;\">\n",
       "      <th></th>\n",
       "      <th>Key</th>\n",
       "      <th>Date</th>\n",
       "      <th>mmdd</th>\n",
       "      <th>DayOfTheWeek</th>\n",
       "      <th>Distance</th>\n",
       "      <th>Timestamp</th>\n",
       "      <th>Tip</th>\n",
       "      <th>OrderAmount</th>\n",
       "      <th>TipPercent</th>\n",
       "      <th>Housing</th>\n",
       "      <th>GenderOfTipper</th>\n",
       "      <th>Cash_Credit_Tip</th>\n",
       "      <th>Web_Site</th>\n",
       "      <th>PersonWhoDelivered</th>\n",
       "      <th>Area</th>\n",
       "      <th>Satisfaction_Rate</th>\n",
       "      <th>Recom_Rate</th>\n",
       "      <th>month</th>\n",
       "    </tr>\n",
       "  </thead>\n",
       "  <tbody>\n",
       "    <tr>\n",
       "      <th>0</th>\n",
       "      <td>712</td>\n",
       "      <td>42233</td>\n",
       "      <td>817</td>\n",
       "      <td>Monday</td>\n",
       "      <td>3.0</td>\n",
       "      <td>0.854167</td>\n",
       "      <td>4.13</td>\n",
       "      <td>12.87</td>\n",
       "      <td>32.090132</td>\n",
       "      <td>Hotel</td>\n",
       "      <td>Male</td>\n",
       "      <td>Cash</td>\n",
       "      <td>0</td>\n",
       "      <td>Sammie</td>\n",
       "      <td>Downtown</td>\n",
       "      <td>0.008093</td>\n",
       "      <td>0.01</td>\n",
       "      <td>Aug</td>\n",
       "    </tr>\n",
       "    <tr>\n",
       "      <th>1</th>\n",
       "      <td>339</td>\n",
       "      <td>42212</td>\n",
       "      <td>727</td>\n",
       "      <td>Monday</td>\n",
       "      <td>3.1</td>\n",
       "      <td>0.521528</td>\n",
       "      <td>3.36</td>\n",
       "      <td>15.44</td>\n",
       "      <td>21.761658</td>\n",
       "      <td>Business</td>\n",
       "      <td>Male</td>\n",
       "      <td>Cash</td>\n",
       "      <td>0</td>\n",
       "      <td>Thomas</td>\n",
       "      <td>South</td>\n",
       "      <td>0.008313</td>\n",
       "      <td>0.01</td>\n",
       "      <td>Jul</td>\n",
       "    </tr>\n",
       "    <tr>\n",
       "      <th>2</th>\n",
       "      <td>1164</td>\n",
       "      <td>42287</td>\n",
       "      <td>1010</td>\n",
       "      <td>Saturday</td>\n",
       "      <td>3.1</td>\n",
       "      <td>0.762500</td>\n",
       "      <td>0.00</td>\n",
       "      <td>15.71</td>\n",
       "      <td>0.000000</td>\n",
       "      <td>House</td>\n",
       "      <td>Female</td>\n",
       "      <td>Cash</td>\n",
       "      <td>0</td>\n",
       "      <td>Andria</td>\n",
       "      <td>West</td>\n",
       "      <td>0.008337</td>\n",
       "      <td>0.01</td>\n",
       "      <td>Oct</td>\n",
       "    </tr>\n",
       "    <tr>\n",
       "      <th>3</th>\n",
       "      <td>1189</td>\n",
       "      <td>42289</td>\n",
       "      <td>1012</td>\n",
       "      <td>Monday</td>\n",
       "      <td>2.5</td>\n",
       "      <td>0.756944</td>\n",
       "      <td>2.00</td>\n",
       "      <td>14.65</td>\n",
       "      <td>13.651877</td>\n",
       "      <td>House</td>\n",
       "      <td>Male</td>\n",
       "      <td>Cash</td>\n",
       "      <td>0</td>\n",
       "      <td>Thomas</td>\n",
       "      <td>South</td>\n",
       "      <td>0.008526</td>\n",
       "      <td>0.01</td>\n",
       "      <td>Oct</td>\n",
       "    </tr>\n",
       "    <tr>\n",
       "      <th>4</th>\n",
       "      <td>1085</td>\n",
       "      <td>42288</td>\n",
       "      <td>1011</td>\n",
       "      <td>Sunday</td>\n",
       "      <td>2.5</td>\n",
       "      <td>0.775000</td>\n",
       "      <td>5.22</td>\n",
       "      <td>16.78</td>\n",
       "      <td>31.108463</td>\n",
       "      <td>Apartment</td>\n",
       "      <td>Male</td>\n",
       "      <td>Cash</td>\n",
       "      <td>0</td>\n",
       "      <td>Andria</td>\n",
       "      <td>South</td>\n",
       "      <td>0.008688</td>\n",
       "      <td>0.01</td>\n",
       "      <td>Oct</td>\n",
       "    </tr>\n",
       "  </tbody>\n",
       "</table>\n",
       "</div>"
      ],
      "text/plain": [
       "    Key   Date  mmdd DayOfTheWeek  Distance  Timestamp   Tip  OrderAmount  \\\n",
       "0   712  42233   817       Monday       3.0   0.854167  4.13        12.87   \n",
       "1   339  42212   727       Monday       3.1   0.521528  3.36        15.44   \n",
       "2  1164  42287  1010     Saturday       3.1   0.762500  0.00        15.71   \n",
       "3  1189  42289  1012       Monday       2.5   0.756944  2.00        14.65   \n",
       "4  1085  42288  1011       Sunday       2.5   0.775000  5.22        16.78   \n",
       "\n",
       "   TipPercent    Housing GenderOfTipper Cash_Credit_Tip  Web_Site  \\\n",
       "0   32.090132      Hotel           Male            Cash         0   \n",
       "1   21.761658   Business           Male            Cash         0   \n",
       "2    0.000000      House         Female            Cash         0   \n",
       "3   13.651877      House           Male            Cash         0   \n",
       "4   31.108463  Apartment           Male            Cash         0   \n",
       "\n",
       "  PersonWhoDelivered      Area  Satisfaction_Rate  Recom_Rate month  \n",
       "0             Sammie  Downtown           0.008093        0.01   Aug  \n",
       "1             Thomas     South           0.008313        0.01   Jul  \n",
       "2             Andria      West           0.008337        0.01   Oct  \n",
       "3             Thomas     South           0.008526        0.01   Oct  \n",
       "4             Andria     South           0.008688        0.01   Oct  "
      ]
     },
     "execution_count": 44,
     "metadata": {},
     "output_type": "execute_result"
    }
   ],
   "source": [
    "#import dominos pizza xls file \n",
    "df = pd.read_excel('Dominos_Pizza_Data.xlsx')\n",
    "df.head()\n"
   ]
  },
  {
   "cell_type": "code",
   "execution_count": 45,
   "id": "a5ffc865",
   "metadata": {},
   "outputs": [
    {
     "data": {
      "text/plain": [
       "(1301, 18)"
      ]
     },
     "execution_count": 45,
     "metadata": {},
     "output_type": "execute_result"
    }
   ],
   "source": [
    "df.shape"
   ]
  },
  {
   "cell_type": "code",
   "execution_count": 46,
   "id": "40e32b00",
   "metadata": {},
   "outputs": [],
   "source": [
    "#Clean data-frame- Replace with mean or mode: Calculates the column mean by “DayOfTheWeek” and uses it as the replacement value for each missing value"
   ]
  },
  {
   "cell_type": "code",
   "execution_count": 47,
   "id": "507b2d8d",
   "metadata": {},
   "outputs": [
    {
     "data": {
      "text/plain": [
       "array(['Monday', 'Saturday', 'Sunday', 'Friday', 'Wednesday', 'Thursday',\n",
       "       'Tuesday'], dtype=object)"
      ]
     },
     "execution_count": 47,
     "metadata": {},
     "output_type": "execute_result"
    }
   ],
   "source": [
    "days = df[\"DayOfTheWeek\"].unique()\n",
    "days\n"
   ]
  },
  {
   "cell_type": "code",
   "execution_count": 48,
   "id": "b0533054",
   "metadata": {},
   "outputs": [],
   "source": [
    "# remplacer la valeur des valeurs Nan par la moy de sa colonne "
   ]
  },
  {
   "cell_type": "code",
   "execution_count": 49,
   "id": "af4582e5",
   "metadata": {},
   "outputs": [
    {
     "data": {
      "text/plain": [
       "Key                    0\n",
       "Date                   0\n",
       "mmdd                   0\n",
       "DayOfTheWeek           0\n",
       "Distance              11\n",
       "Timestamp              0\n",
       "Tip                    0\n",
       "OrderAmount           11\n",
       "TipPercent             0\n",
       "Housing                0\n",
       "GenderOfTipper         0\n",
       "Cash_Credit_Tip        0\n",
       "Web_Site               0\n",
       "PersonWhoDelivered     0\n",
       "Area                   0\n",
       "Satisfaction_Rate      7\n",
       "Recom_Rate            14\n",
       "month                  0\n",
       "dtype: int64"
      ]
     },
     "execution_count": 49,
     "metadata": {},
     "output_type": "execute_result"
    }
   ],
   "source": [
    "df.isnull().sum(axis=0)"
   ]
  },
  {
   "cell_type": "code",
   "execution_count": 50,
   "id": "ec0915ea",
   "metadata": {},
   "outputs": [],
   "source": [
    "cleandata = df.dropna()"
   ]
  },
  {
   "cell_type": "code",
   "execution_count": 51,
   "id": "a487d383",
   "metadata": {},
   "outputs": [
    {
     "name": "stdout",
     "output_type": "stream",
     "text": [
      "       Key   Date  mmdd DayOfTheWeek  Distance  Timestamp   Tip  OrderAmount  \\\n",
      "0      712  42233   817       Monday       3.0   0.854167  4.13        12.87   \n",
      "1      339  42212   727       Monday       3.1   0.521528  3.36        15.44   \n",
      "2     1164  42287  1010     Saturday       3.1   0.762500  0.00        15.71   \n",
      "3     1189  42289  1012       Monday       2.5   0.756944  2.00        14.65   \n",
      "4     1085  42288  1011       Sunday       2.5   0.775000  5.22        16.78   \n",
      "...    ...    ...   ...          ...       ...        ...   ...          ...   \n",
      "1289  1097  42273   926     Saturday       0.4   0.772222  3.00        23.13   \n",
      "1290    23  42197   712       Sunday       1.0   0.730556  6.00        29.90   \n",
      "1291  1111  42228   812    Wednesday       2.0   0.770139  2.00        42.59   \n",
      "1292   843  42281  1004       Sunday       1.2   0.822917  7.00        40.61   \n",
      "1293    70  42252   905     Saturday       0.5   0.720139  7.00        43.00   \n",
      "\n",
      "      TipPercent    Housing GenderOfTipper Cash_Credit_Tip  Web_Site  \\\n",
      "0      32.090132      Hotel           Male            Cash         0   \n",
      "1      21.761658   Business           Male            Cash         0   \n",
      "2       0.000000      House         Female            Cash         0   \n",
      "3      13.651877      House           Male            Cash         0   \n",
      "4      31.108463  Apartment           Male            Cash         0   \n",
      "...          ...        ...            ...             ...       ...   \n",
      "1289   12.970169  Apartment         Female          Credit         1   \n",
      "1290   20.066890  Apartment           Male          Credit         1   \n",
      "1291    4.695938      House         Female          Credit         1   \n",
      "1292   17.237134      House         Female          Credit         1   \n",
      "1293   16.279070  Apartment           Male          Credit         1   \n",
      "\n",
      "     PersonWhoDelivered      Area  Satisfaction_Rate  Recom_Rate month  \n",
      "0                Sammie  Downtown           0.008093        0.01   Aug  \n",
      "1                Thomas     South           0.008313        0.01   Jul  \n",
      "2                Andria      West           0.008337        0.01   Oct  \n",
      "3                Thomas     South           0.008526        0.01   Oct  \n",
      "4                Andria     South           0.008688        0.01   Oct  \n",
      "...                 ...       ...                ...         ...   ...  \n",
      "1289             Thomas     South           0.833068        0.88   Sep  \n",
      "1290             Thomas      East           0.836480        0.89   Jul  \n",
      "1291             Andria  Downtown           0.842198        0.90   Aug  \n",
      "1292              Angel     North           0.845981        0.89   Oct  \n",
      "1293             Thomas     South           0.852193        0.88   Sep  \n",
      "\n",
      "[1259 rows x 18 columns]\n"
     ]
    }
   ],
   "source": [
    "print(cleandata)"
   ]
  },
  {
   "cell_type": "code",
   "execution_count": 52,
   "id": "424c7d23",
   "metadata": {},
   "outputs": [],
   "source": [
    "df_clean = [\"Distance\" ,\"OrderAmount\",\"Satisfaction_Rate\",\"Recom_Rate\"]"
   ]
  },
  {
   "cell_type": "code",
   "execution_count": 53,
   "id": "9fb7e8ef",
   "metadata": {},
   "outputs": [
    {
     "data": {
      "text/plain": [
       "Key                   0\n",
       "Date                  0\n",
       "mmdd                  0\n",
       "DayOfTheWeek          0\n",
       "Distance              0\n",
       "Timestamp             0\n",
       "Tip                   0\n",
       "OrderAmount           0\n",
       "TipPercent            0\n",
       "Housing               0\n",
       "GenderOfTipper        0\n",
       "Cash_Credit_Tip       0\n",
       "Web_Site              0\n",
       "PersonWhoDelivered    0\n",
       "Area                  0\n",
       "Satisfaction_Rate     0\n",
       "Recom_Rate            0\n",
       "month                 0\n",
       "dtype: int64"
      ]
     },
     "execution_count": 53,
     "metadata": {},
     "output_type": "execute_result"
    }
   ],
   "source": [
    "df[df_clean] = df[df_clean].fillna(df.mode().iloc[0])\n",
    "df.isnull().sum(axis=0)"
   ]
  },
  {
   "cell_type": "markdown",
   "id": "fcdd0b8f",
   "metadata": {},
   "source": [
    "# B -Data Manipulation"
   ]
  },
  {
   "cell_type": "code",
   "execution_count": 54,
   "id": "cdeed4c4",
   "metadata": {},
   "outputs": [],
   "source": [
    "#Find the Maximum \" OrderAmount\" “PersonWhoDelivered” name"
   ]
  },
  {
   "cell_type": "code",
   "execution_count": 55,
   "id": "4ab8066f",
   "metadata": {},
   "outputs": [
    {
     "data": {
      "text/html": [
       "<div>\n",
       "<style scoped>\n",
       "    .dataframe tbody tr th:only-of-type {\n",
       "        vertical-align: middle;\n",
       "    }\n",
       "\n",
       "    .dataframe tbody tr th {\n",
       "        vertical-align: top;\n",
       "    }\n",
       "\n",
       "    .dataframe thead th {\n",
       "        text-align: right;\n",
       "    }\n",
       "</style>\n",
       "<table border=\"1\" class=\"dataframe\">\n",
       "  <thead>\n",
       "    <tr style=\"text-align: right;\">\n",
       "      <th></th>\n",
       "      <th>PersonWhoDelivered</th>\n",
       "      <th>OrderAmount</th>\n",
       "    </tr>\n",
       "  </thead>\n",
       "  <tbody>\n",
       "    <tr>\n",
       "      <th>900</th>\n",
       "      <td>Angel</td>\n",
       "      <td>97.18</td>\n",
       "    </tr>\n",
       "  </tbody>\n",
       "</table>\n",
       "</div>"
      ],
      "text/plain": [
       "    PersonWhoDelivered  OrderAmount\n",
       "900              Angel        97.18"
      ]
     },
     "execution_count": 55,
     "metadata": {},
     "output_type": "execute_result"
    }
   ],
   "source": [
    "max_ord= df[\"OrderAmount\"].max()\n",
    "person = df.loc[df[\"OrderAmount\"]== max_ord, : \"PersonWhoDelivered\"]\n",
    "Pwd = person [[\"PersonWhoDelivered\", \"OrderAmount\"]]\n",
    "Pwd\n"
   ]
  },
  {
   "cell_type": "code",
   "execution_count": 56,
   "id": "6e2168a5",
   "metadata": {},
   "outputs": [],
   "source": [
    "#Print the Total of \" OrderAmount\" & Total of \" Distance\" by “PersonWhoDelivered”"
   ]
  },
  {
   "cell_type": "code",
   "execution_count": 57,
   "id": "fee7784c",
   "metadata": {},
   "outputs": [
    {
     "name": "stdout",
     "output_type": "stream",
     "text": [
      "                    OrderAmount  Distance\n",
      "PersonWhoDelivered                       \n",
      "Andria                 6081.573    658.91\n",
      "Angel                  7267.250    776.86\n",
      "Sammie                 6733.250    705.95\n",
      "Thomas                 8304.350    831.72\n"
     ]
    }
   ],
   "source": [
    "result1 = df.groupby('PersonWhoDelivered')[['OrderAmount', 'Distance']].sum()\n",
    "print(result1)"
   ]
  },
  {
   "cell_type": "code",
   "execution_count": 58,
   "id": "1a3f2393",
   "metadata": {},
   "outputs": [],
   "source": [
    "#Find the average \" OrderAmount\" by ‘month’ and by “Area”"
   ]
  },
  {
   "cell_type": "code",
   "execution_count": 59,
   "id": "a269ed53",
   "metadata": {},
   "outputs": [
    {
     "name": "stdout",
     "output_type": "stream",
     "text": [
      "<bound method GroupBy.mean of <pandas.core.groupby.generic.SeriesGroupBy object at 0x14ca71150>>\n"
     ]
    }
   ],
   "source": [
    "result2=df.groupby([\"month\",\"Area\"])[\"OrderAmount\"].mean\n",
    "print(result2)"
   ]
  },
  {
   "cell_type": "code",
   "execution_count": 60,
   "id": "3d9bfd59",
   "metadata": {},
   "outputs": [
    {
     "name": "stdout",
     "output_type": "stream",
     "text": [
      "                OrderAmount\n",
      "Area     month             \n",
      "Downtown Aug      21.203729\n",
      "         Jul      21.011765\n",
      "         Nov      17.213333\n",
      "         Oct      20.743000\n",
      "         Sep      20.810667\n",
      "East     Aug      21.567064\n",
      "         Jul      22.898043\n",
      "         Nov      18.706667\n",
      "         Oct      21.866324\n",
      "         Sep      23.745149\n",
      "North    Aug      20.176063\n",
      "         Jul      22.028913\n",
      "         Nov      24.368333\n",
      "         Oct      22.389130\n",
      "         Sep      21.573077\n",
      "South    Aug      22.542307\n",
      "         Jul      20.039687\n",
      "         Nov      18.536667\n",
      "         Oct      22.252963\n",
      "         Sep      22.396739\n",
      "West     Aug      22.029123\n",
      "         Jul      26.974762\n",
      "         Oct      20.338136\n",
      "         Sep      21.650870\n"
     ]
    }
   ],
   "source": [
    "Ord_Month_Area = pd.pivot_table(df,index=['Area',\"month\"], values =[\"OrderAmount\"], aggfunc=np.mean)\n",
    "print(Ord_Month_Area)"
   ]
  },
  {
   "cell_type": "markdown",
   "id": "f9c8d7fc",
   "metadata": {},
   "source": [
    "# C-Data Visualization"
   ]
  },
  {
   "cell_type": "code",
   "execution_count": 61,
   "id": "dad575c6",
   "metadata": {},
   "outputs": [],
   "source": [
    "#The graph of average of \" Distance\" of the “DayOfTheWeek”.(X label name = “ DayOfTheWeek” Y label name = average ”Distance.)"
   ]
  },
  {
   "cell_type": "code",
   "execution_count": 62,
   "id": "cd43b28f",
   "metadata": {},
   "outputs": [
    {
     "data": {
      "image/png": "[encoded data removed]",
      "text/plain": [
       "<Figure size 640x480 with 1 Axes>"
      ]
     },
     "metadata": {},
     "output_type": "display_data"
    }
   ],
   "source": [
    "Graph1 = pd.pivot_table(df,index='DayOfTheWeek', values =\"Distance\", aggfunc=np.mean)\n",
    "Graph1.reset_index(inplace=True)\n",
    "plt.bar(Graph1['DayOfTheWeek'], Graph1[\"Distance\"])\n",
    "plt.show()\n"
   ]
  },
  {
   "cell_type": "code",
   "execution_count": 63,
   "id": "7e731d14",
   "metadata": {},
   "outputs": [],
   "source": [
    "#The graph of total \" OrderAmount\" of the ‘month'.(X label name = ‘month’ , Y label name = total \" OrderAmount\" .)"
   ]
  },
  {
   "cell_type": "code",
   "execution_count": 64,
   "id": "15c9cccd",
   "metadata": {},
   "outputs": [
    {
     "data": {
      "image/png": "[encoded data removed]",
      "text/plain": [
       "<Figure size 640x480 with 1 Axes>"
      ]
     },
     "metadata": {},
     "output_type": "display_data"
    }
   ],
   "source": [
    "# Graph2 = pd.pivot_table(df,index= 'month', values = \"OrderAmount\", aggfunc=np.mean)\n",
    "Graph2.reset_index(inplace=True)\n",
    "Graph2\n",
    "plt.bar(Graph2['month'], Graph2['OrderAmount'])\n",
    "plt.show()\n"
   ]
  },
  {
   "cell_type": "code",
   "execution_count": null,
   "id": "54f8c619",
   "metadata": {},
   "outputs": [],
   "source": []
  },
  {
   "cell_type": "markdown",
   "id": "0fce547a",
   "metadata": {},
   "source": [
    "# D- Programming Algorithm Challenges"
   ]
  },
  {
   "cell_type": "code",
   "execution_count": 65,
   "id": "79b268f9",
   "metadata": {},
   "outputs": [],
   "source": [
    "#The manager data scientist of (Domino’s Pizza) asks you to publish the Performance Score “Perf_Score” list by “PersonWhoDelivered” of the month of August “Aug”"
   ]
  },
  {
   "cell_type": "code",
   "execution_count": 66,
   "id": "f68a5ab3",
   "metadata": {},
   "outputs": [
    {
     "name": "stdout",
     "output_type": "stream",
     "text": [
      "Name =  Samie\n",
      "Performance score :  nan\n",
      "Name =  Thomas\n",
      "Performance score :  0.7138120361719144\n",
      "Name =  Andria\n",
      "Performance score :  0.7202207406647174\n",
      "Name =  Angel\n",
      "Performance score :  0.6614252651421945\n"
     ]
    }
   ],
   "source": [
    "for i in (['Samie','Thomas','Andria','Angel']):\n",
    "    print (\"Name = \", i)\n",
    "    \n",
    "    \n",
    "    dfpwd=df.loc[df[\"PersonWhoDelivered\"] == i]\n",
    "    df_Aug = dfpwd.loc[(dfpwd['month'] == \"Aug\")]\n",
    "    satisfaction = df_Aug.Satisfaction_Rate.mean()\n",
    "    recom =df_Aug.Recom_Rate.mean()\n",
    "    perf_score = satisfaction / (1-recom)\n",
    "    \n",
    "    print(\"Performance score : \" ,perf_score)"
   ]
  },
  {
   "cell_type": "code",
   "execution_count": null,
   "id": "dfdaba5a",
   "metadata": {},
   "outputs": [],
   "source": []
  },
  {
   "cell_type": "code",
   "execution_count": null,
   "id": "81781d7b",
   "metadata": {},
   "outputs": [],
   "source": []
  }
 ],
 "metadata": {
  "kernelspec": {
   "display_name": "Python 3 (ipykernel)",
   "language": "python",
   "name": "python3"
  },
  "language_info": {
   "codemirror_mode": {
    "name": "ipython",
    "version": 3
   },
   "file_extension": ".py",
   "mimetype": "text/x-python",
   "name": "python",
   "nbconvert_exporter": "python",
   "pygments_lexer": "ipython3",
   "version": "3.11.4"
  }
 },
 "nbformat": 4,
 "nbformat_minor": 5
}
